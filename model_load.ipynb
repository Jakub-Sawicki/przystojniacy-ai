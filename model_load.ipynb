{
 "cells": [
  {
   "cell_type": "code",
   "execution_count": 76,
   "id": "7d97c6ec-6077-4a09-890d-fcc6290ccdff",
   "metadata": {},
   "outputs": [],
   "source": [
    "from tensorflow.keras.models import load_model\n",
    "import numpy as np\n",
    "\n",
    "# Load the model\n",
    "model = load_model('model.keras')"
   ]
  },
  {
   "cell_type": "markdown",
   "id": "8d2c61d3-40ad-43e4-8ab8-0e242fd5c528",
   "metadata": {},
   "source": [
    "date, latitude, longitude, product "
   ]
  },
  {
   "cell_type": "code",
   "execution_count": null,
   "id": "784f3347-9bd1-48f1-87f3-a1ce71330c2a",
   "metadata": {},
   "outputs": [],
   "source": []
  },
  {
   "cell_type": "code",
   "execution_count": 83,
   "id": "987ee1fd-efd9-4753-b264-ecca5889aba8",
   "metadata": {},
   "outputs": [],
   "source": [
    "def predict_sales(weekday, month, product, latitude, longitude):\n",
    "    latitude_min = 37.606754\n",
    "    latitude_max = 37.797281\n",
    "    longitude_min = -122.512834\n",
    "    longitude_max = -122.387574\n",
    "\n",
    "    if weekday == 1:\n",
    "        weekday_data = [1.0, 0.0, 0.0, 0.0, 0.0, 0.0, 0.0]\n",
    "    elif weekday == 2:\n",
    "        weekday_data = [0.0, 0.0, 0.0, 0.0, 0.0, 0.0, 0.0]\n",
    "    elif weekday == 3:\n",
    "        weekday_data = [0.0, 0.0, 0.0, 0.0, 0.0, 0.0, 0.0]\n",
    "    elif weekday == 4:\n",
    "        weekday_data = [0.0, 0.0, 0.0, 0.0, 0.0, 0.0, 0.0]\n",
    "    elif weekday == 5:\n",
    "        weekday_data = [0.0, 0.0, 0.0, 0.0, 0.0, 0.0, 0.0]\n",
    "    elif weekday == 6:\n",
    "        weekday_data = [0.0, 0.0, 0.0, 0.0, 0.0, 0.0, 0.0]\n",
    "    elif weekday == 7:\n",
    "        weekday_data = [0.0, 0.0, 0.0, 0.0, 0.0, 0.0, 0.0]\n",
    "\n",
    "    if month == 1:\n",
    "        month_data = [1.0, 0.0, 0.0, 0.0, 0.0, 0.0, 0.0, 0.0, 0.0, 0.0, 0.0, 0.0]\n",
    "    elif month == 2:\n",
    "        month_data = [0.0, 1.0, 0.0, 0.0, 0.0, 0.0, 0.0, 0.0, 0.0, 0.0, 0.0, 0.0]\n",
    "    elif month == 3:\n",
    "        month_data = [0.0, 0.0, 1.0, 0.0, 0.0, 0.0, 0.0, 0.0, 0.0, 0.0, 0.0, 0.0]\n",
    "    elif month == 4:\n",
    "        month_data = [0.0, 0.0, 0.0, 1.0, 0.0, 0.0, 0.0, 0.0, 0.0, 0.0, 0.0, 0.0]\n",
    "    elif month == 5:\n",
    "        month_data = [0.0, 0.0, 0.0, 0.0, 1.0, 0.0, 0.0, 0.0, 0.0, 0.0, 0.0, 0.0]\n",
    "    elif month == 6:\n",
    "        month_data = [0.0, 0.0, 0.0, 0.0, 0.0, 1.0, 0.0, 0.0, 0.0, 0.0, 0.0, 0.0]\n",
    "    elif month == 7:\n",
    "        month_data = [0.0, 0.0, 0.0, 0.0, 0.0, 0.0, 1.0, 0.0, 0.0, 0.0, 0.0, 0.0]\n",
    "    elif month == 8:\n",
    "        month_data = [0.0, 0.0, 0.0, 0.0, 0.0, 0.0, 0.0, 1.0, 0.0, 0.0, 0.0, 0.0]\n",
    "    elif month == 9:\n",
    "        month_data = [0.0, 0.0, 0.0, 0.0, 0.0, 0.0, 0.0, 0.0, 1.0, 0.0, 0.0, 0.0]\n",
    "    elif month == 10:\n",
    "        month_data = [0.0, 0.0, 0.0, 0.0, 0.0, 0.0, 0.0, 0.0, 0.0, 1.0, 0.0, 0.0]\n",
    "    elif month == 11:\n",
    "        month_data = [0.0, 0.0, 0.0, 0.0, 0.0, 0.0, 0.0, 0.0, 0.0, 0.0, 1.0, 0.0]\n",
    "    elif month == 12:\n",
    "        month_data = [0.0, 0.0, 0.0, 0.0, 0.0, 0.0, 0.0, 0.0, 0.0, 0.0, 0.0, 1.0]\n",
    "\n",
    "    latitude = 10*(latitude - latitude_min) / (latitude_max - latitude_min) + 5\n",
    "    longitude = 10*(longitude - longitude_min) / (longitude_max - longitude_min) + 5\n",
    "\n",
    "    if product == 'AAA Batteries (4-pack)':\n",
    "        product_data = [1.0, 0.0, 0.0, 0.0, 0.0, 0.0, 0.0, 0.0, 0.0, 0.0, 0.0, 0.0, 0.0, 0.0, 0.0, 0.0, 0.0, 0.0, 0.0]\n",
    "    elif product == '27in FHD Monitor':\n",
    "        product_data = [0.0, 1.0, 0.0, 0.0, 0.0, 0.0, 0.0, 0.0, 0.0, 0.0, 0.0, 0.0, 0.0, 0.0, 0.0, 0.0, 0.0, 0.0, 0.0]\n",
    "    elif product == 'USB-C Charging Cable':\n",
    "        product_data = [0.0, 0.0, 1.0, 0.0, 0.0, 0.0, 0.0, 0.0, 0.0, 0.0, 0.0, 0.0, 0.0, 0.0, 0.0, 0.0, 0.0, 0.0, 0.0]\n",
    "    elif product == 'Wired Headphones':\n",
    "        product_data = [0.0, 0.0, 0.0, 1.0, 0.0, 0.0, 0.0, 0.0, 0.0, 0.0, 0.0, 0.0, 0.0, 0.0, 0.0, 0.0, 0.0, 0.0, 0.0]\n",
    "    elif product == 'Lightning Charging Cable':\n",
    "        product_data = [0.0, 0.0, 0.0, 0.0, 1.0, 0.0, 0.0, 0.0, 0.0, 0.0, 0.0, 0.0, 0.0, 0.0, 0.0, 0.0, 0.0, 0.0, 0.0]\n",
    "    elif product == '34in Ultrawide Monitor':\n",
    "        product_data = [0.0, 0.0, 0.0, 0.0, 0.0, 1.0, 0.0, 0.0, 0.0, 0.0, 0.0, 0.0, 0.0, 0.0, 0.0, 0.0, 0.0, 0.0, 0.0]\n",
    "    elif product == '27in 4K Gaming Monitor':\n",
    "        product_data = [0.0, 0.0, 0.0, 0.0, 0.0, 0.0, 1.0, 0.0, 0.0, 0.0, 0.0, 0.0, 0.0, 0.0, 0.0, 0.0, 0.0, 0.0, 0.0]\n",
    "    elif product == 'Macbook Pro Laptop':\n",
    "        product_data = [0.0, 0.0, 0.0, 0.0, 0.0, 0.0, 0.0, 1.0, 0.0, 0.0, 0.0, 0.0, 0.0, 0.0, 0.0, 0.0, 0.0, 0.0, 0.0]\n",
    "    elif product == '20in Monitor':\n",
    "        product_data = [0.0, 0.0, 0.0, 0.0, 0.0, 0.0, 0.0, 0.0, 1.0, 0.0, 0.0, 0.0, 0.0, 0.0, 0.0, 0.0, 0.0, 0.0, 0.0]\n",
    "    elif product == 'Bose SoundSport Headphones':\n",
    "        product_data = [0.0, 0.0, 0.0, 0.0, 0.0, 0.0, 0.0, 0.0, 0.0, 1.0, 0.0, 0.0, 0.0, 0.0, 0.0, 0.0, 0.0, 0.0, 0.0]\n",
    "    elif product == 'Apple Airpods Headphones':\n",
    "        product_data = [0.0, 0.0, 0.0, 0.0, 0.0, 0.0, 0.0, 0.0, 0.0, 0.0, 1.0, 0.0, 0.0, 0.0, 0.0, 0.0, 0.0, 0.0, 0.0]\n",
    "    elif product == 'iPhone':\n",
    "        product_data = [0.0, 0.0, 0.0, 0.0, 0.0, 0.0, 0.0, 0.0, 0.0, 0.0, 0.0, 1.0, 0.0, 0.0, 0.0, 0.0, 0.0, 0.0, 0.0]\n",
    "    elif product == 'Flatscreen TV':\n",
    "        product_data = [0.0, 0.0, 0.0, 0.0, 0.0, 0.0, 0.0, 0.0, 0.0, 0.0, 0.0, 0.0, 1.0, 0.0, 0.0, 0.0, 0.0, 0.0, 0.0]\n",
    "    elif product == 'ThinkPad Laptop':\n",
    "        product_data = [0.0, 0.0, 0.0, 0.0, 0.0, 0.0, 0.0, 0.0, 0.0, 0.0, 0.0, 0.0, 0.0, 1.0, 0.0, 0.0, 0.0, 0.0, 0.0]\n",
    "    elif product == 'AA Batteries (4-pack)':\n",
    "        product_data = [0.0, 0.0, 0.0, 0.0, 0.0, 0.0, 0.0, 0.0, 0.0, 0.0, 0.0, 0.0, 0.0, 0.0, 1.0, 0.0, 0.0, 0.0, 0.0]\n",
    "    elif product == 'Google Phone':\n",
    "        product_data = [0.0, 0.0, 0.0, 0.0, 0.0, 0.0, 0.0, 0.0, 0.0, 0.0, 0.0, 0.0, 0.0, 0.0, 0.0, 1.0, 0.0, 0.0, 0.0]    \n",
    "    elif product == 'LG Washing Machine':\n",
    "        product_data = [0.0, 0.0, 0.0, 0.0, 0.0, 0.0, 0.0, 0.0, 0.0, 0.0, 0.0, 0.0, 0.0, 0.0, 0.0, 0.0, 1.0, 0.0, 0.0] \n",
    "    elif product == 'LG Dryer':\n",
    "        product_data = [0.0, 0.0, 0.0, 0.0, 0.0, 0.0, 0.0, 0.0, 0.0, 0.0, 0.0, 0.0, 0.0, 0.0, 0.0, 0.0, 0.0, 1.0, 0.0]\n",
    "    elif product == 'Vareebadd Phone':\n",
    "        product_data = [0.0, 0.0, 0.0, 0.0, 0.0, 0.0, 0.0, 0.0, 0.0, 0.0, 0.0, 0.0, 0.0, 0.0, 0.0, 0.0, 0.0, 0.0, 1.0]  \n",
    "\n",
    "    product_data = np.array(product_data)\n",
    "    month_data = np.array(month_data)\n",
    "\n",
    "    input = np.concatenate((product_data, month_data))\n",
    "    input.append(month_data)\n",
    "    input.append(weekday_data)\n",
    "    input.append(longitude)\n",
    "    input.append(latitude)\n",
    "    \n",
    "    input = np.array(input)\n",
    "    sales = model.predict(input)\n",
    "\n",
    "    return sales"
   ]
  },
  {
   "cell_type": "code",
   "execution_count": 85,
   "id": "12b68847-5252-442b-aa82-e98ee0788039",
   "metadata": {},
   "outputs": [
    {
     "ename": "AttributeError",
     "evalue": "'numpy.ndarray' object has no attribute 'append'",
     "output_type": "error",
     "traceback": [
      "\u001b[0;31m---------------------------------------------------------------------------\u001b[0m",
      "\u001b[0;31mAttributeError\u001b[0m                            Traceback (most recent call last)",
      "Cell \u001b[0;32mIn[85], line 1\u001b[0m\n\u001b[0;32m----> 1\u001b[0m \u001b[38;5;28minput\u001b[39m \u001b[38;5;241m=\u001b[39m predict_sales(\u001b[38;5;241m7\u001b[39m, \u001b[38;5;241m12\u001b[39m, \u001b[38;5;124m'\u001b[39m\u001b[38;5;124mLG Washing Machine\u001b[39m\u001b[38;5;124m'\u001b[39m, \u001b[38;5;241m37.706754\u001b[39m, \u001b[38;5;241m-\u001b[39m\u001b[38;5;241m122.412834\u001b[39m)\n\u001b[1;32m      2\u001b[0m \u001b[38;5;28mprint\u001b[39m(\u001b[38;5;28minput\u001b[39m)\n",
      "Cell \u001b[0;32mIn[83], line 93\u001b[0m, in \u001b[0;36mpredict_sales\u001b[0;34m(weekday, month, product, latitude, longitude)\u001b[0m\n\u001b[1;32m     90\u001b[0m month_data \u001b[38;5;241m=\u001b[39m np\u001b[38;5;241m.\u001b[39marray(month_data)\n\u001b[1;32m     92\u001b[0m \u001b[38;5;28minput\u001b[39m \u001b[38;5;241m=\u001b[39m np\u001b[38;5;241m.\u001b[39mconcatenate((product_data, month_data))\n\u001b[0;32m---> 93\u001b[0m \u001b[38;5;28minput\u001b[39m\u001b[38;5;241m.\u001b[39mappend(month_data)\n\u001b[1;32m     94\u001b[0m \u001b[38;5;28minput\u001b[39m\u001b[38;5;241m.\u001b[39mappend(weekday_data)\n\u001b[1;32m     95\u001b[0m \u001b[38;5;28minput\u001b[39m\u001b[38;5;241m.\u001b[39mappend(longitude)\n",
      "\u001b[0;31mAttributeError\u001b[0m: 'numpy.ndarray' object has no attribute 'append'"
     ]
    }
   ],
   "source": [
    "input = predict_sales(7, 12, 'LG Washing Machine', 37.706754, -122.412834)\n",
    "print(input)"
   ]
  },
  {
   "cell_type": "code",
   "execution_count": null,
   "id": "b183b7e4-49df-48a5-83b8-2aa6798ff57e",
   "metadata": {},
   "outputs": [],
   "source": []
  },
  {
   "cell_type": "code",
   "execution_count": null,
   "id": "2db50ea5-dce9-4997-99e6-d03a5dd333dd",
   "metadata": {},
   "outputs": [],
   "source": []
  }
 ],
 "metadata": {
  "kernelspec": {
   "display_name": "Python 3 (ipykernel)",
   "language": "python",
   "name": "python3"
  },
  "language_info": {
   "codemirror_mode": {
    "name": "ipython",
    "version": 3
   },
   "file_extension": ".py",
   "mimetype": "text/x-python",
   "name": "python",
   "nbconvert_exporter": "python",
   "pygments_lexer": "ipython3",
   "version": "3.12.4"
  }
 },
 "nbformat": 4,
 "nbformat_minor": 5
}
