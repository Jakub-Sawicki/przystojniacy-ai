{
 "cells": [
  {
   "cell_type": "code",
   "execution_count": 737,
   "id": "1e66bd78-6bd4-467e-89cc-de113104c939",
   "metadata": {},
   "outputs": [],
   "source": [
    "import pandas as pd                     \n",
    "import csv                              \n",
    "import numpy as np                     \n",
    "import matplotlib.pyplot as plt         \n",
    "import tensorflow as tf               \n",
    "from tensorflow import keras\n",
    "\n",
    "data = pd.read_csv('plik_z_koordynatami_sf.csv')"
   ]
  },
  {
   "cell_type": "code",
   "execution_count": 738,
   "id": "e92c1d88-bd3f-40b4-be1f-ce6fea269942",
   "metadata": {},
   "outputs": [
    {
     "data": {
      "text/html": [
       "<div>\n",
       "<style scoped>\n",
       "    .dataframe tbody tr th:only-of-type {\n",
       "        vertical-align: middle;\n",
       "    }\n",
       "\n",
       "    .dataframe tbody tr th {\n",
       "        vertical-align: top;\n",
       "    }\n",
       "\n",
       "    .dataframe thead th {\n",
       "        text-align: right;\n",
       "    }\n",
       "</style>\n",
       "<table border=\"1\" class=\"dataframe\">\n",
       "  <thead>\n",
       "    <tr style=\"text-align: right;\">\n",
       "      <th></th>\n",
       "      <th>Product</th>\n",
       "      <th>Sales</th>\n",
       "      <th>Weekday</th>\n",
       "      <th>Month</th>\n",
       "      <th>Latitude</th>\n",
       "      <th>Longitude</th>\n",
       "    </tr>\n",
       "  </thead>\n",
       "  <tbody>\n",
       "    <tr>\n",
       "      <th>0</th>\n",
       "      <td>27in FHD Monitor</td>\n",
       "      <td>149.99</td>\n",
       "      <td>7</td>\n",
       "      <td>12</td>\n",
       "      <td>37.644586</td>\n",
       "      <td>-122.422182</td>\n",
       "    </tr>\n",
       "    <tr>\n",
       "      <th>1</th>\n",
       "      <td>USB-C Charging Cable</td>\n",
       "      <td>23.90</td>\n",
       "      <td>5</td>\n",
       "      <td>12</td>\n",
       "      <td>37.656598</td>\n",
       "      <td>-122.423914</td>\n",
       "    </tr>\n",
       "    <tr>\n",
       "      <th>2</th>\n",
       "      <td>Wired Headphones</td>\n",
       "      <td>11.99</td>\n",
       "      <td>1</td>\n",
       "      <td>12</td>\n",
       "      <td>37.778087</td>\n",
       "      <td>-122.395774</td>\n",
       "    </tr>\n",
       "    <tr>\n",
       "      <th>3</th>\n",
       "      <td>AAA Batteries (4-pack)</td>\n",
       "      <td>11.96</td>\n",
       "      <td>3</td>\n",
       "      <td>12</td>\n",
       "      <td>37.691105</td>\n",
       "      <td>-122.417659</td>\n",
       "    </tr>\n",
       "    <tr>\n",
       "      <th>4</th>\n",
       "      <td>Wired Headphones</td>\n",
       "      <td>11.99</td>\n",
       "      <td>3</td>\n",
       "      <td>12</td>\n",
       "      <td>37.738215</td>\n",
       "      <td>-122.424128</td>\n",
       "    </tr>\n",
       "  </tbody>\n",
       "</table>\n",
       "</div>"
      ],
      "text/plain": [
       "                  Product   Sales  Weekday  Month   Latitude   Longitude\n",
       "0        27in FHD Monitor  149.99        7     12  37.644586 -122.422182\n",
       "1    USB-C Charging Cable   23.90        5     12  37.656598 -122.423914\n",
       "2        Wired Headphones   11.99        1     12  37.778087 -122.395774\n",
       "3  AAA Batteries (4-pack)   11.96        3     12  37.691105 -122.417659\n",
       "4        Wired Headphones   11.99        3     12  37.738215 -122.424128"
      ]
     },
     "execution_count": 738,
     "metadata": {},
     "output_type": "execute_result"
    }
   ],
   "source": [
    "data.head()"
   ]
  },
  {
   "cell_type": "code",
   "execution_count": 739,
   "id": "f84166d7-ffdd-46d3-ac54-095e80d63a68",
   "metadata": {},
   "outputs": [
    {
     "data": {
      "text/plain": [
       "19"
      ]
     },
     "execution_count": 739,
     "metadata": {},
     "output_type": "execute_result"
    }
   ],
   "source": [
    "data['Product'].nunique()"
   ]
  },
  {
   "cell_type": "markdown",
   "id": "cd5460d1-d309-4319-8958-876bc36414dd",
   "metadata": {},
   "source": [
    "Widać że kolumna 'Product' ma tylko 19 różnych produktów, co pozwoli na zastosowanie one-hot-encoding do ich reprezentacji."
   ]
  },
  {
   "cell_type": "code",
   "execution_count": 741,
   "id": "255ee024-13c0-4af6-89ce-9220bb6d4ce9",
   "metadata": {},
   "outputs": [],
   "source": [
    "def print_unique(column):\n",
    "    print(\"ilość powtórzeń unikatowych wartości w kolumnie\")\n",
    "    value_counts = data[column].value_counts()\n",
    "    print(value_counts)\n",
    "    print('')"
   ]
  },
  {
   "cell_type": "code",
   "execution_count": 742,
   "id": "e01160f9-0a4e-49b1-abc5-bea77e78af87",
   "metadata": {},
   "outputs": [
    {
     "data": {
      "text/html": [
       "<div>\n",
       "<style scoped>\n",
       "    .dataframe tbody tr th:only-of-type {\n",
       "        vertical-align: middle;\n",
       "    }\n",
       "\n",
       "    .dataframe tbody tr th {\n",
       "        vertical-align: top;\n",
       "    }\n",
       "\n",
       "    .dataframe thead th {\n",
       "        text-align: right;\n",
       "    }\n",
       "</style>\n",
       "<table border=\"1\" class=\"dataframe\">\n",
       "  <thead>\n",
       "    <tr style=\"text-align: right;\">\n",
       "      <th></th>\n",
       "      <th>Product</th>\n",
       "      <th>Sales</th>\n",
       "      <th>Weekday</th>\n",
       "      <th>Month</th>\n",
       "      <th>Latitude</th>\n",
       "      <th>Longitude</th>\n",
       "    </tr>\n",
       "  </thead>\n",
       "  <tbody>\n",
       "    <tr>\n",
       "      <th>0</th>\n",
       "      <td>27in FHD Monitor</td>\n",
       "      <td>149.99</td>\n",
       "      <td>7</td>\n",
       "      <td>12</td>\n",
       "      <td>37.644586</td>\n",
       "      <td>-122.422182</td>\n",
       "    </tr>\n",
       "    <tr>\n",
       "      <th>1</th>\n",
       "      <td>USB-C Charging Cable</td>\n",
       "      <td>23.90</td>\n",
       "      <td>5</td>\n",
       "      <td>12</td>\n",
       "      <td>37.656598</td>\n",
       "      <td>-122.423914</td>\n",
       "    </tr>\n",
       "    <tr>\n",
       "      <th>2</th>\n",
       "      <td>Wired Headphones</td>\n",
       "      <td>11.99</td>\n",
       "      <td>1</td>\n",
       "      <td>12</td>\n",
       "      <td>37.778087</td>\n",
       "      <td>-122.395774</td>\n",
       "    </tr>\n",
       "    <tr>\n",
       "      <th>3</th>\n",
       "      <td>AAA Batteries (4-pack)</td>\n",
       "      <td>11.96</td>\n",
       "      <td>3</td>\n",
       "      <td>12</td>\n",
       "      <td>37.691105</td>\n",
       "      <td>-122.417659</td>\n",
       "    </tr>\n",
       "    <tr>\n",
       "      <th>4</th>\n",
       "      <td>Wired Headphones</td>\n",
       "      <td>11.99</td>\n",
       "      <td>3</td>\n",
       "      <td>12</td>\n",
       "      <td>37.738215</td>\n",
       "      <td>-122.424128</td>\n",
       "    </tr>\n",
       "  </tbody>\n",
       "</table>\n",
       "</div>"
      ],
      "text/plain": [
       "                  Product   Sales  Weekday  Month   Latitude   Longitude\n",
       "0        27in FHD Monitor  149.99        7     12  37.644586 -122.422182\n",
       "1    USB-C Charging Cable   23.90        5     12  37.656598 -122.423914\n",
       "2        Wired Headphones   11.99        1     12  37.778087 -122.395774\n",
       "3  AAA Batteries (4-pack)   11.96        3     12  37.691105 -122.417659\n",
       "4        Wired Headphones   11.99        3     12  37.738215 -122.424128"
      ]
     },
     "execution_count": 742,
     "metadata": {},
     "output_type": "execute_result"
    }
   ],
   "source": [
    "data.head()"
   ]
  },
  {
   "cell_type": "markdown",
   "id": "4be4fe0c-dcaa-4a32-b721-17c2e05616d8",
   "metadata": {},
   "source": [
    "Teraz zrobię one hot encoding."
   ]
  },
  {
   "cell_type": "code",
   "execution_count": 744,
   "id": "5b4f6ab2-74d7-44cb-b368-1c0e30b71c57",
   "metadata": {},
   "outputs": [
    {
     "name": "stdout",
     "output_type": "stream",
     "text": [
      "[[0. 0. 1. 0. 0. 0. 0. 0. 0. 0. 0. 0. 0. 0. 0. 0. 0. 0. 0.]]\n",
      "[[0. 0. 0. 0. 0. 0. 0. 0. 0. 0. 0. 1.]]\n",
      "[[0. 0. 0. 0. 0. 0. 1.]]\n"
     ]
    }
   ],
   "source": [
    "from tensorflow.keras.utils import to_categorical\n",
    "from sklearn.preprocessing import LabelEncoder\n",
    "\n",
    "# zamiana produktów na one hot encoding\n",
    "\n",
    "products = np.array(data['Product'])\n",
    "\n",
    "label_encoder = LabelEncoder()\n",
    "product_labels = label_encoder.fit_transform(products)\n",
    "one_hot_products = to_categorical(product_labels)\n",
    "print(one_hot_products[:1])\n",
    "\n",
    "# one hot encoding dla miesięcy i dni\n",
    "\n",
    "months = np.array(data['Month'])\n",
    "month_labels = label_encoder.fit_transform(months)\n",
    "one_hot_months = to_categorical(month_labels)\n",
    "print(one_hot_months[:1])\n",
    "\n",
    "week_day = np.array(data['Weekday'])\n",
    "week_day_labels = label_encoder.fit_transform(week_day)\n",
    "one_hot_week_day = to_categorical(week_day_labels)\n",
    "print(one_hot_week_day[:1])"
   ]
  },
  {
   "cell_type": "markdown",
   "id": "86301c61-6fd9-46fa-a4fb-b2567ca431ff",
   "metadata": {},
   "source": [
    "Następnie zrobię normalizację danych wysokości i szerokości geograficznej oraz popytu."
   ]
  },
  {
   "cell_type": "code",
   "execution_count": 746,
   "id": "fe915935-7e35-4c3b-8dce-c34f04688612",
   "metadata": {},
   "outputs": [
    {
     "data": {
      "text/html": [
       "<div>\n",
       "<style scoped>\n",
       "    .dataframe tbody tr th:only-of-type {\n",
       "        vertical-align: middle;\n",
       "    }\n",
       "\n",
       "    .dataframe tbody tr th {\n",
       "        vertical-align: top;\n",
       "    }\n",
       "\n",
       "    .dataframe thead th {\n",
       "        text-align: right;\n",
       "    }\n",
       "</style>\n",
       "<table border=\"1\" class=\"dataframe\">\n",
       "  <thead>\n",
       "    <tr style=\"text-align: right;\">\n",
       "      <th></th>\n",
       "      <th>Sales</th>\n",
       "      <th>Weekday</th>\n",
       "      <th>Month</th>\n",
       "      <th>Latitude</th>\n",
       "      <th>Longitude</th>\n",
       "    </tr>\n",
       "  </thead>\n",
       "  <tbody>\n",
       "    <tr>\n",
       "      <th>count</th>\n",
       "      <td>44732.00000</td>\n",
       "      <td>44732.000000</td>\n",
       "      <td>44732.000000</td>\n",
       "      <td>44732.000000</td>\n",
       "      <td>44732.000000</td>\n",
       "    </tr>\n",
       "    <tr>\n",
       "      <th>mean</th>\n",
       "      <td>184.70455</td>\n",
       "      <td>3.999061</td>\n",
       "      <td>7.053563</td>\n",
       "      <td>37.701925</td>\n",
       "      <td>-122.450085</td>\n",
       "    </tr>\n",
       "    <tr>\n",
       "      <th>std</th>\n",
       "      <td>332.56451</td>\n",
       "      <td>1.996476</td>\n",
       "      <td>3.507761</td>\n",
       "      <td>0.055339</td>\n",
       "      <td>0.035976</td>\n",
       "    </tr>\n",
       "    <tr>\n",
       "      <th>min</th>\n",
       "      <td>2.99000</td>\n",
       "      <td>1.000000</td>\n",
       "      <td>1.000000</td>\n",
       "      <td>37.606754</td>\n",
       "      <td>-122.512834</td>\n",
       "    </tr>\n",
       "    <tr>\n",
       "      <th>25%</th>\n",
       "      <td>11.95000</td>\n",
       "      <td>2.000000</td>\n",
       "      <td>4.000000</td>\n",
       "      <td>37.653895</td>\n",
       "      <td>-122.481211</td>\n",
       "    </tr>\n",
       "    <tr>\n",
       "      <th>50%</th>\n",
       "      <td>14.95000</td>\n",
       "      <td>4.000000</td>\n",
       "      <td>7.000000</td>\n",
       "      <td>37.701682</td>\n",
       "      <td>-122.450096</td>\n",
       "    </tr>\n",
       "    <tr>\n",
       "      <th>75%</th>\n",
       "      <td>150.00000</td>\n",
       "      <td>6.000000</td>\n",
       "      <td>10.000000</td>\n",
       "      <td>37.750299</td>\n",
       "      <td>-122.418995</td>\n",
       "    </tr>\n",
       "    <tr>\n",
       "      <th>max</th>\n",
       "      <td>3400.00000</td>\n",
       "      <td>7.000000</td>\n",
       "      <td>12.000000</td>\n",
       "      <td>37.797281</td>\n",
       "      <td>-122.387574</td>\n",
       "    </tr>\n",
       "  </tbody>\n",
       "</table>\n",
       "</div>"
      ],
      "text/plain": [
       "             Sales       Weekday         Month      Latitude     Longitude\n",
       "count  44732.00000  44732.000000  44732.000000  44732.000000  44732.000000\n",
       "mean     184.70455      3.999061      7.053563     37.701925   -122.450085\n",
       "std      332.56451      1.996476      3.507761      0.055339      0.035976\n",
       "min        2.99000      1.000000      1.000000     37.606754   -122.512834\n",
       "25%       11.95000      2.000000      4.000000     37.653895   -122.481211\n",
       "50%       14.95000      4.000000      7.000000     37.701682   -122.450096\n",
       "75%      150.00000      6.000000     10.000000     37.750299   -122.418995\n",
       "max     3400.00000      7.000000     12.000000     37.797281   -122.387574"
      ]
     },
     "execution_count": 746,
     "metadata": {},
     "output_type": "execute_result"
    }
   ],
   "source": [
    "data.describe()"
   ]
  },
  {
   "cell_type": "code",
   "execution_count": 747,
   "id": "c6978750-23c0-4532-a672-0992acf05054",
   "metadata": {},
   "outputs": [],
   "source": [
    "# Normalizacja kolumn 'Longitude' i 'Latitude' bez pętli\n",
    "data['Longitude'] = 10*(data['Longitude'] - data['Longitude'].min()) / (data['Longitude'].max() - data['Longitude'].min()) + 5\n",
    "data['Latitude'] = 10*(data['Latitude'] - data['Latitude'].min()) / (data['Latitude'].max() - data['Latitude'].min()) + 5\n"
   ]
  },
  {
   "cell_type": "code",
   "execution_count": 748,
   "id": "a9fd3ee9-f623-4386-b7b0-3489f1c7ab70",
   "metadata": {},
   "outputs": [
    {
     "name": "stdout",
     "output_type": "stream",
     "text": [
      "12.237148889403876\n"
     ]
    }
   ],
   "source": [
    "print(data['Longitude'][0])"
   ]
  },
  {
   "cell_type": "code",
   "execution_count": 749,
   "id": "39b136d3-c124-45fd-bac1-e17831c7a087",
   "metadata": {},
   "outputs": [],
   "source": [
    "longitude = np.array(data['Longitude'])\n",
    "latitude = np.array(data['Latitude'])\n",
    "sales = np.array(data['Sales'])"
   ]
  },
  {
   "cell_type": "code",
   "execution_count": 750,
   "id": "9c9c9b90-6b1b-45ea-bfe6-3724ad442d73",
   "metadata": {},
   "outputs": [
    {
     "name": "stdout",
     "output_type": "stream",
     "text": [
      "12.237148889403876\n"
     ]
    }
   ],
   "source": [
    "data.describe()\n",
    "print(data['Longitude'][0])"
   ]
  },
  {
   "cell_type": "code",
   "execution_count": 751,
   "id": "4379b851-d967-417b-8365-493ed2a1ab9e",
   "metadata": {},
   "outputs": [
    {
     "data": {
      "text/html": [
       "<div>\n",
       "<style scoped>\n",
       "    .dataframe tbody tr th:only-of-type {\n",
       "        vertical-align: middle;\n",
       "    }\n",
       "\n",
       "    .dataframe tbody tr th {\n",
       "        vertical-align: top;\n",
       "    }\n",
       "\n",
       "    .dataframe thead th {\n",
       "        text-align: right;\n",
       "    }\n",
       "</style>\n",
       "<table border=\"1\" class=\"dataframe\">\n",
       "  <thead>\n",
       "    <tr style=\"text-align: right;\">\n",
       "      <th></th>\n",
       "      <th>Product</th>\n",
       "      <th>Sales</th>\n",
       "      <th>Weekday</th>\n",
       "      <th>Month</th>\n",
       "      <th>Latitude</th>\n",
       "      <th>Longitude</th>\n",
       "    </tr>\n",
       "  </thead>\n",
       "  <tbody>\n",
       "    <tr>\n",
       "      <th>0</th>\n",
       "      <td>27in FHD Monitor</td>\n",
       "      <td>149.99</td>\n",
       "      <td>7</td>\n",
       "      <td>12</td>\n",
       "      <td>6.985639</td>\n",
       "      <td>12.237149</td>\n",
       "    </tr>\n",
       "    <tr>\n",
       "      <th>1</th>\n",
       "      <td>USB-C Charging Cable</td>\n",
       "      <td>23.90</td>\n",
       "      <td>5</td>\n",
       "      <td>12</td>\n",
       "      <td>7.616118</td>\n",
       "      <td>12.098858</td>\n",
       "    </tr>\n",
       "    <tr>\n",
       "      <th>2</th>\n",
       "      <td>Wired Headphones</td>\n",
       "      <td>11.99</td>\n",
       "      <td>1</td>\n",
       "      <td>12</td>\n",
       "      <td>13.992541</td>\n",
       "      <td>14.345384</td>\n",
       "    </tr>\n",
       "    <tr>\n",
       "      <th>3</th>\n",
       "      <td>AAA Batteries (4-pack)</td>\n",
       "      <td>11.96</td>\n",
       "      <td>3</td>\n",
       "      <td>12</td>\n",
       "      <td>9.427226</td>\n",
       "      <td>12.598194</td>\n",
       "    </tr>\n",
       "    <tr>\n",
       "      <th>4</th>\n",
       "      <td>Wired Headphones</td>\n",
       "      <td>11.99</td>\n",
       "      <td>3</td>\n",
       "      <td>12</td>\n",
       "      <td>11.899866</td>\n",
       "      <td>12.081786</td>\n",
       "    </tr>\n",
       "  </tbody>\n",
       "</table>\n",
       "</div>"
      ],
      "text/plain": [
       "                  Product   Sales  Weekday  Month   Latitude  Longitude\n",
       "0        27in FHD Monitor  149.99        7     12   6.985639  12.237149\n",
       "1    USB-C Charging Cable   23.90        5     12   7.616118  12.098858\n",
       "2        Wired Headphones   11.99        1     12  13.992541  14.345384\n",
       "3  AAA Batteries (4-pack)   11.96        3     12   9.427226  12.598194\n",
       "4        Wired Headphones   11.99        3     12  11.899866  12.081786"
      ]
     },
     "execution_count": 751,
     "metadata": {},
     "output_type": "execute_result"
    }
   ],
   "source": [
    "data.head()"
   ]
  },
  {
   "cell_type": "markdown",
   "id": "762c314a-0510-4895-8a41-605f73c334fe",
   "metadata": {},
   "source": [
    "Teraz połączę te dane w jeden wielki tensor inputowy"
   ]
  },
  {
   "cell_type": "code",
   "execution_count": 753,
   "id": "cf5b2e92-3768-4b42-8cb3-f42c0da5e3ee",
   "metadata": {},
   "outputs": [
    {
     "name": "stdout",
     "output_type": "stream",
     "text": [
      "12.237148889403876\n"
     ]
    }
   ],
   "source": [
    "longitude = longitude.reshape(-1, 1)\n",
    "latitude = latitude.reshape(-1, 1)\n",
    "\n",
    "print(data['Longitude'][0])"
   ]
  },
  {
   "cell_type": "code",
   "execution_count": 754,
   "id": "8579fc39-8dc2-4d3d-bd18-e31929fdf76b",
   "metadata": {},
   "outputs": [
    {
     "name": "stdout",
     "output_type": "stream",
     "text": [
      "(44732, 40)\n",
      "(44732,)\n",
      "[0.         0.         0.         0.         0.         0.\n",
      " 0.         0.         1.         0.         0.         0.\n",
      " 0.         0.         0.         0.         0.         0.\n",
      " 0.         0.         0.         0.         0.         0.\n",
      " 0.         0.         0.         0.         0.         0.\n",
      " 1.         0.         1.         0.         0.         0.\n",
      " 0.         0.         8.03497129 7.97728497]\n"
     ]
    }
   ],
   "source": [
    "input_data = np.concatenate([\n",
    "    one_hot_products,   # (185950, 19)\n",
    "    one_hot_months,     # (185950, 12)\n",
    "#    one_hot_day,        # (185950, 31)\n",
    "    one_hot_week_day,   # (185950, 7)\n",
    "    longitude,          # (185950, 1)\n",
    "    latitude,           # (185950, 1)\n",
    "], axis=1)\n",
    "\n",
    "print(input_data.shape)\n",
    "\n",
    "output_data = sales\n",
    "print(output_data.shape)\n",
    "\n",
    "print(input_data[100])"
   ]
  },
  {
   "cell_type": "markdown",
   "id": "8c420a70-6861-442e-9a83-f860cf32e2f3",
   "metadata": {},
   "source": [
    "Tworzę model który na wejście"
   ]
  },
  {
   "cell_type": "code",
   "execution_count": 756,
   "id": "fd5da8bc-9a2e-499f-b604-6a7f75a878d1",
   "metadata": {},
   "outputs": [
    {
     "name": "stdout",
     "output_type": "stream",
     "text": [
      "19\n",
      "12\n",
      "(19,)\n"
     ]
    }
   ],
   "source": [
    "print(one_hot_products.shape[1])\n",
    "print(one_hot_months.shape[1])\n",
    "print((one_hot_products.shape[1],))"
   ]
  },
  {
   "cell_type": "markdown",
   "id": "50fcce28-6899-4a59-b179-abd6d9e193e0",
   "metadata": {},
   "source": [
    "from sklearn.model_selection import train_test_split\n",
    "from sklearn import metrics\n",
    "\n",
    "one_hot_products_train, one_hot_products_val, one_hot_months_train, one_hot_months_val, one_hot_day_train, one_hot_day_val, one_hot_week_day_train, one_hot_week_day_val, longitude_train, longitude_val, latitude_train, latitude_val, sales_train, sales_val = train_test_split(one_hot_products, one_hot_months, one_hot_day, one_hot_week_day, longitude, latitude, sales, \n",
    "\t\t\t\t\t\t\t\t\t\t\t\ttest_size = 0.3,\n",
    "\t\t\t\t\t\t\t\t\t\t\t\trandom_state = 66)\n",
    "\n",
    "print(one_hot_products_train.shape, ' ', one_hot_products_val.shape, ' ', one_hot_products.shape)\n",
    "print(sales_train.shape, ' ', sales_val.shape)\n",
    "print(one_hot_products_train[:1])\n",
    "print(longitude_train[:1])"
   ]
  },
  {
   "cell_type": "code",
   "execution_count": 758,
   "id": "41b5a465-ae26-4a14-b027-9bc2cd06c592",
   "metadata": {},
   "outputs": [
    {
     "name": "stdout",
     "output_type": "stream",
     "text": [
      "[ 0.          0.          1.          0.          0.          0.\n",
      "  0.          0.          0.          0.          0.          0.\n",
      "  0.          0.          0.          0.          0.          0.\n",
      "  0.          0.          0.          0.          0.          0.\n",
      "  0.          0.          0.          0.          0.          0.\n",
      "  1.          0.          0.          0.          0.          0.\n",
      "  0.          1.         12.23714889  6.98563939]\n",
      "149.99\n"
     ]
    }
   ],
   "source": [
    "print(input_data[0])\n",
    "print(output_data[0])\n",
    "input_data = np.array(input_data)"
   ]
  },
  {
   "cell_type": "code",
   "execution_count": 759,
   "id": "6a708981-1d2c-4e8a-a2c9-47794b947e83",
   "metadata": {},
   "outputs": [
    {
     "name": "stdout",
     "output_type": "stream",
     "text": [
      "(35785,)   (8947,)   (44732,)\n"
     ]
    }
   ],
   "source": [
    "from sklearn.model_selection import train_test_split\n",
    "from sklearn import metrics\n",
    "\n",
    "input_data_train, input_data_val, output_data_train, output_data_val = train_test_split(input_data, output_data, \n",
    "\t\t\t\t\t\t\t\t\t\t\t\ttest_size = 0.2,\n",
    "\t\t\t\t\t\t\t\t\t\t\t\trandom_state = 33)\n",
    "\n",
    "print(output_data_train.shape, ' ', output_data_val.shape, ' ', output_data.shape)"
   ]
  },
  {
   "cell_type": "code",
   "execution_count": 760,
   "id": "a4c36cf3-a1a7-432e-a068-6774f8c8e3f0",
   "metadata": {},
   "outputs": [
    {
     "name": "stdout",
     "output_type": "stream",
     "text": [
      "[0.         0.         0.         0.         0.         1.\n",
      " 0.         0.         0.         0.         0.         0.\n",
      " 0.         0.         0.         0.         0.         0.\n",
      " 0.         0.         0.         0.         0.         1.\n",
      " 0.         0.         0.         0.         0.         0.\n",
      " 0.         1.         0.         0.         0.         0.\n",
      " 0.         0.         8.57423342 5.79712115]\n",
      "8.97\n"
     ]
    }
   ],
   "source": [
    "print(input_data_train[0])\n",
    "print(output_data_train[0])"
   ]
  },
  {
   "cell_type": "markdown",
   "id": "a85a492a-e8c1-4ad6-81e8-f23bc783d198",
   "metadata": {},
   "source": [
    "input_product = Input(shape=(one_hot_products_train.shape[1],), name='input_product')\n",
    "input_month = Input(shape=(one_hot_months_train.shape[1],), name='input_month')\n",
    "input_day = Input(shape=(one_hot_day_train.shape[1],), name='input_day')\n",
    "input_weekday = Input(shape=(one_hot_week_day_train.shape[1],), name='input_weekday')\n",
    "input_longitude = Input(shape=(1,), name='input_longitude')\n",
    "input_latitude = Input(shape=(1,), name='input_latitude')\n",
    "\n",
    "x1 = Dense(5, activation='relu')(input_product)\n",
    "x2 = Dense(5, activation='relu')(input_month)\n",
    "x3 = Dense(5, activation='relu')(input_day)\n",
    "x4 = Dense(5, activation='relu')(input_weekday)\n",
    "x5 = Dense(5, activation='relu')(input_longitude)\n",
    "x6 = Dense(5, activation='relu')(input_latitude)\n",
    "\n",
    "concatenated = concatenate([x1, x2, x3, x4, x5, x6])\n",
    "\n",
    "layer1 = Dense(64, activation='relu')(concatenated)\n",
    "\n",
    "outputs = Dense(1, activation='linear')(layer1)  # 'linear', ponieważ chcemy przewidzieć wartość ciągłą (sprzedaż)\n",
    "\n",
    "model = Model(inputs=[input_product, input_month, input_day, input_weekday, input_longitude, input_latitude], outputs=outputs)\n",
    "\n",
    "# Podsumowanie modelu\n",
    "model.summary()"
   ]
  },
  {
   "cell_type": "code",
   "execution_count": 762,
   "id": "a43a40e4-6ada-4275-8489-a1612f57bdd6",
   "metadata": {},
   "outputs": [
    {
     "data": {
      "text/html": [
       "<pre style=\"white-space:pre;overflow-x:auto;line-height:normal;font-family:Menlo,'DejaVu Sans Mono',consolas,'Courier New',monospace\"><span style=\"font-weight: bold\">Model: \"functional_8\"</span>\n",
       "</pre>\n"
      ],
      "text/plain": [
       "\u001b[1mModel: \"functional_8\"\u001b[0m\n"
      ]
     },
     "metadata": {},
     "output_type": "display_data"
    },
    {
     "data": {
      "text/html": [
       "<pre style=\"white-space:pre;overflow-x:auto;line-height:normal;font-family:Menlo,'DejaVu Sans Mono',consolas,'Courier New',monospace\">┏━━━━━━━━━━━━━━━━━━━━━━━━━━━━━━━━━┳━━━━━━━━━━━━━━━━━━━━━━━━┳━━━━━━━━━━━━━━━┓\n",
       "┃<span style=\"font-weight: bold\"> Layer (type)                    </span>┃<span style=\"font-weight: bold\"> Output Shape           </span>┃<span style=\"font-weight: bold\">       Param # </span>┃\n",
       "┡━━━━━━━━━━━━━━━━━━━━━━━━━━━━━━━━━╇━━━━━━━━━━━━━━━━━━━━━━━━╇━━━━━━━━━━━━━━━┩\n",
       "│ inputs (<span style=\"color: #0087ff; text-decoration-color: #0087ff\">InputLayer</span>)             │ (<span style=\"color: #00d7ff; text-decoration-color: #00d7ff\">None</span>, <span style=\"color: #00af00; text-decoration-color: #00af00\">40</span>)             │             <span style=\"color: #00af00; text-decoration-color: #00af00\">0</span> │\n",
       "├─────────────────────────────────┼────────────────────────┼───────────────┤\n",
       "│ dense_36 (<span style=\"color: #0087ff; text-decoration-color: #0087ff\">Dense</span>)                │ (<span style=\"color: #00d7ff; text-decoration-color: #00d7ff\">None</span>, <span style=\"color: #00af00; text-decoration-color: #00af00\">20</span>)             │           <span style=\"color: #00af00; text-decoration-color: #00af00\">820</span> │\n",
       "├─────────────────────────────────┼────────────────────────┼───────────────┤\n",
       "│ dense_37 (<span style=\"color: #0087ff; text-decoration-color: #0087ff\">Dense</span>)                │ (<span style=\"color: #00d7ff; text-decoration-color: #00d7ff\">None</span>, <span style=\"color: #00af00; text-decoration-color: #00af00\">64</span>)             │         <span style=\"color: #00af00; text-decoration-color: #00af00\">1,344</span> │\n",
       "├─────────────────────────────────┼────────────────────────┼───────────────┤\n",
       "│ dense_38 (<span style=\"color: #0087ff; text-decoration-color: #0087ff\">Dense</span>)                │ (<span style=\"color: #00d7ff; text-decoration-color: #00d7ff\">None</span>, <span style=\"color: #00af00; text-decoration-color: #00af00\">32</span>)             │         <span style=\"color: #00af00; text-decoration-color: #00af00\">2,080</span> │\n",
       "├─────────────────────────────────┼────────────────────────┼───────────────┤\n",
       "│ dense_39 (<span style=\"color: #0087ff; text-decoration-color: #0087ff\">Dense</span>)                │ (<span style=\"color: #00d7ff; text-decoration-color: #00d7ff\">None</span>, <span style=\"color: #00af00; text-decoration-color: #00af00\">1</span>)              │            <span style=\"color: #00af00; text-decoration-color: #00af00\">33</span> │\n",
       "└─────────────────────────────────┴────────────────────────┴───────────────┘\n",
       "</pre>\n"
      ],
      "text/plain": [
       "┏━━━━━━━━━━━━━━━━━━━━━━━━━━━━━━━━━┳━━━━━━━━━━━━━━━━━━━━━━━━┳━━━━━━━━━━━━━━━┓\n",
       "┃\u001b[1m \u001b[0m\u001b[1mLayer (type)                   \u001b[0m\u001b[1m \u001b[0m┃\u001b[1m \u001b[0m\u001b[1mOutput Shape          \u001b[0m\u001b[1m \u001b[0m┃\u001b[1m \u001b[0m\u001b[1m      Param #\u001b[0m\u001b[1m \u001b[0m┃\n",
       "┡━━━━━━━━━━━━━━━━━━━━━━━━━━━━━━━━━╇━━━━━━━━━━━━━━━━━━━━━━━━╇━━━━━━━━━━━━━━━┩\n",
       "│ inputs (\u001b[38;5;33mInputLayer\u001b[0m)             │ (\u001b[38;5;45mNone\u001b[0m, \u001b[38;5;34m40\u001b[0m)             │             \u001b[38;5;34m0\u001b[0m │\n",
       "├─────────────────────────────────┼────────────────────────┼───────────────┤\n",
       "│ dense_36 (\u001b[38;5;33mDense\u001b[0m)                │ (\u001b[38;5;45mNone\u001b[0m, \u001b[38;5;34m20\u001b[0m)             │           \u001b[38;5;34m820\u001b[0m │\n",
       "├─────────────────────────────────┼────────────────────────┼───────────────┤\n",
       "│ dense_37 (\u001b[38;5;33mDense\u001b[0m)                │ (\u001b[38;5;45mNone\u001b[0m, \u001b[38;5;34m64\u001b[0m)             │         \u001b[38;5;34m1,344\u001b[0m │\n",
       "├─────────────────────────────────┼────────────────────────┼───────────────┤\n",
       "│ dense_38 (\u001b[38;5;33mDense\u001b[0m)                │ (\u001b[38;5;45mNone\u001b[0m, \u001b[38;5;34m32\u001b[0m)             │         \u001b[38;5;34m2,080\u001b[0m │\n",
       "├─────────────────────────────────┼────────────────────────┼───────────────┤\n",
       "│ dense_39 (\u001b[38;5;33mDense\u001b[0m)                │ (\u001b[38;5;45mNone\u001b[0m, \u001b[38;5;34m1\u001b[0m)              │            \u001b[38;5;34m33\u001b[0m │\n",
       "└─────────────────────────────────┴────────────────────────┴───────────────┘\n"
      ]
     },
     "metadata": {},
     "output_type": "display_data"
    },
    {
     "data": {
      "text/html": [
       "<pre style=\"white-space:pre;overflow-x:auto;line-height:normal;font-family:Menlo,'DejaVu Sans Mono',consolas,'Courier New',monospace\"><span style=\"font-weight: bold\"> Total params: </span><span style=\"color: #00af00; text-decoration-color: #00af00\">4,277</span> (16.71 KB)\n",
       "</pre>\n"
      ],
      "text/plain": [
       "\u001b[1m Total params: \u001b[0m\u001b[38;5;34m4,277\u001b[0m (16.71 KB)\n"
      ]
     },
     "metadata": {},
     "output_type": "display_data"
    },
    {
     "data": {
      "text/html": [
       "<pre style=\"white-space:pre;overflow-x:auto;line-height:normal;font-family:Menlo,'DejaVu Sans Mono',consolas,'Courier New',monospace\"><span style=\"font-weight: bold\"> Trainable params: </span><span style=\"color: #00af00; text-decoration-color: #00af00\">4,277</span> (16.71 KB)\n",
       "</pre>\n"
      ],
      "text/plain": [
       "\u001b[1m Trainable params: \u001b[0m\u001b[38;5;34m4,277\u001b[0m (16.71 KB)\n"
      ]
     },
     "metadata": {},
     "output_type": "display_data"
    },
    {
     "data": {
      "text/html": [
       "<pre style=\"white-space:pre;overflow-x:auto;line-height:normal;font-family:Menlo,'DejaVu Sans Mono',consolas,'Courier New',monospace\"><span style=\"font-weight: bold\"> Non-trainable params: </span><span style=\"color: #00af00; text-decoration-color: #00af00\">0</span> (0.00 B)\n",
       "</pre>\n"
      ],
      "text/plain": [
       "\u001b[1m Non-trainable params: \u001b[0m\u001b[38;5;34m0\u001b[0m (0.00 B)\n"
      ]
     },
     "metadata": {},
     "output_type": "display_data"
    }
   ],
   "source": [
    "from tensorflow.keras.layers import Input\n",
    "from tensorflow.keras.layers import Dense\n",
    "from tensorflow.keras.models import Model\n",
    "\n",
    "inputs = Input(shape=(input_data.shape[1],), name='inputs')\n",
    "\n",
    "x1 = Dense(20, activation='relu')(inputs)\n",
    "\n",
    "layer1 = Dense(64, activation='relu')(x1)\n",
    "\n",
    "layer2 = Dense(32, activation='relu')(layer1)\n",
    "\n",
    "outputs = Dense(1, activation='linear')(layer2) \n",
    "\n",
    "# Tworzenie modelu\n",
    "model = Model(inputs=inputs, outputs=outputs)\n",
    "\n",
    "# Podsumowanie modelu\n",
    "model.summary()"
   ]
  },
  {
   "cell_type": "markdown",
   "id": "0b2428ca-fadf-4099-a7d9-9694d4cdc042",
   "metadata": {},
   "source": [
    "model.compile(optimizer='adam', loss='mean_squared_error', metrics=['mae'])\n",
    "\n",
    "history = model.fit(x=[one_hot_products_train, one_hot_months_train, one_hot_day_train, one_hot_week_day_train, longitude_train, latitude_train], y=sales_train, \n",
    "    validation_data=(\n",
    "        [one_hot_products_val, one_hot_months_val, one_hot_day_val, one_hot_week_day_val, longitude_val, latitude_val], \n",
    "        sales_val\n",
    "    ),\n",
    "    epochs=10, \n",
    "    batch_size=32\n",
    ")"
   ]
  },
  {
   "cell_type": "markdown",
   "id": "5bba0637-994d-4a81-8b4f-8205cffc512b",
   "metadata": {},
   "source": [
    "from keras.callbacks import EarlyStopping, ReduceLROnPlateau\n",
    "\n",
    "\n",
    "class myCallback(tf.keras.callbacks.Callback):\n",
    "\tdef on_epoch_end(self, epoch, logs={}):\n",
    "\t\tif logs.get('val_accuracy') > 0.90:\n",
    "\t\t\tprint('\\n Validation accuracy has reached upto \\\n",
    "\t\t\t\t\t90% so, stopping further training.')\n",
    "\t\t\tself.model.stop_training = True\n",
    "\n",
    "\n",
    "es = EarlyStopping(patience=3,\n",
    "\t\t\t\tmonitor='val_accuracy',\n",
    "\t\t\t\trestore_best_weights=True)\n",
    "\n",
    "lr = ReduceLROnPlateau(monitor='val_loss',\n",
    "\t\t\t\t\tpatience=2,\n",
    "\t\t\t\t\tfactor=0.5,\n",
    "\t\t\t\t\tverbose=1)"
   ]
  },
  {
   "cell_type": "code",
   "execution_count": 765,
   "id": "6258619f-95de-495e-b0c2-0fc1975e3331",
   "metadata": {},
   "outputs": [
    {
     "name": "stdout",
     "output_type": "stream",
     "text": [
      "Epoch 1/3\n",
      "\u001b[1m560/560\u001b[0m \u001b[32m━━━━━━━━━━━━━━━━━━━━\u001b[0m\u001b[37m\u001b[0m \u001b[1m1s\u001b[0m 911us/step - loss: 116496.9297 - mae: 190.8249 - val_loss: 47508.9531 - val_mae: 98.9462\n",
      "Epoch 2/3\n",
      "\u001b[1m560/560\u001b[0m \u001b[32m━━━━━━━━━━━━━━━━━━━━\u001b[0m\u001b[37m\u001b[0m \u001b[1m0s\u001b[0m 698us/step - loss: 24417.0781 - mae: 70.4734 - val_loss: 980.6180 - val_mae: 17.9064\n",
      "Epoch 3/3\n",
      "\u001b[1m560/560\u001b[0m \u001b[32m━━━━━━━━━━━━━━━━━━━━\u001b[0m\u001b[37m\u001b[0m \u001b[1m0s\u001b[0m 751us/step - loss: 482.8401 - mae: 12.3214 - val_loss: 257.5263 - val_mae: 8.5061\n"
     ]
    }
   ],
   "source": [
    "model.compile(optimizer='adam', loss='mean_squared_error', metrics=['mae'])\n",
    "\n",
    "history = model.fit(input_data_train, output_data_train,\n",
    "    validation_data=(\n",
    "        input_data_val, \n",
    "        output_data_val\n",
    "    ),\n",
    "    epochs=3, \n",
    "    batch_size=64\n",
    ")"
   ]
  },
  {
   "cell_type": "code",
   "execution_count": 766,
   "id": "6ce1c8b0-7278-4927-832b-07658fb41e5d",
   "metadata": {},
   "outputs": [
    {
     "data": {
      "image/png": "[encoded data removed]",
      "text/plain": [
       "<Figure size 640x480 with 1 Axes>"
      ]
     },
     "metadata": {},
     "output_type": "display_data"
    },
    {
     "data": {
      "image/png": "[encoded data removed]",
      "text/plain": [
       "<Figure size 640x480 with 1 Axes>"
      ]
     },
     "metadata": {},
     "output_type": "display_data"
    }
   ],
   "source": [
    "history_df = pd.DataFrame(history.history)\n",
    "history_df.loc[:, ['loss', 'val_loss']].plot()\n",
    "history_df.loc[:, ['mae', 'val_mae']].plot()\n",
    "plt.title('Model loss and MAE')\n",
    "plt.xlabel('Epoch')\n",
    "plt.ylabel('Loss/MAE')\n",
    "plt.show()"
   ]
  },
  {
   "cell_type": "markdown",
   "id": "e307295e-7216-4f77-b97a-65e1d6bd654f",
   "metadata": {},
   "source": [
    "Przewidywanie wartości"
   ]
  },
  {
   "cell_type": "code",
   "execution_count": 768,
   "id": "caea6042-c365-43a1-9e38-7054b77b4acb",
   "metadata": {},
   "outputs": [],
   "source": [
    "data_for_prediction = pd.read_csv('data for prediction.csv')"
   ]
  },
  {
   "cell_type": "code",
   "execution_count": 769,
   "id": "cf1b89d6-ccf2-45a5-be85-f11ff87ac55a",
   "metadata": {},
   "outputs": [],
   "source": [
    "def preparing_input(data, index):\n",
    "    label_encoder = LabelEncoder()\n",
    "\n",
    "    products = np.array(data['Product'])\n",
    "    product_labels = label_encoder.fit_transform(products)\n",
    "    one_hot_products = to_categorical(product_labels)\n",
    "    \n",
    "    months = np.array(data['Month'])\n",
    "    month_labels = label_encoder.fit_transform(months)\n",
    "    one_hot_months = to_categorical(month_labels)\n",
    "    print(one_hot_months[:1])\n",
    "    \n",
    "    week_day = np.array(data['dzien tyg'])\n",
    "    week_day_labels = label_encoder.fit_transform(week_day)\n",
    "    one_hot_week_day = to_categorical(week_day_labels)\n",
    "    print(one_hot_week_day[:1])\n",
    "    \n",
    "    day = np.array(data['dzien miesaca'])\n",
    "    day_labels = label_encoder.fit_transform(day)\n",
    "    one_hot_day = to_categorical(day_labels)\n",
    "    print(one_hot_day[:1])"
   ]
  },
  {
   "cell_type": "code",
   "execution_count": 770,
   "id": "49eb964c-59c2-4c12-88e1-e9739d530202",
   "metadata": {},
   "outputs": [
    {
     "name": "stdout",
     "output_type": "stream",
     "text": [
      "[ 0.          0.          1.          0.          0.          0.\n",
      "  0.          0.          0.          0.          0.          0.\n",
      "  0.          0.          0.          0.          0.          0.\n",
      "  0.          0.          0.          0.          0.          0.\n",
      "  0.          0.          0.          0.          0.          0.\n",
      "  1.          0.          0.          0.          0.          0.\n",
      "  0.          1.         12.23714889  6.98563939]   [ 0.          0.          0.          0.          0.          0.\n",
      "  0.          0.          0.          0.          0.          0.\n",
      "  0.          0.          0.          1.          0.          0.\n",
      "  0.          0.          0.          0.          0.          0.\n",
      "  0.          0.          0.          0.          0.          0.\n",
      "  1.          0.          0.          0.          0.          1.\n",
      "  0.          0.         12.09885846  7.61611776]\n"
     ]
    }
   ],
   "source": [
    "print(input_data[0], ' ', input_data[1])"
   ]
  },
  {
   "cell_type": "code",
   "execution_count": 771,
   "id": "37622026-d5c1-4938-b3a5-8fdad492b06c",
   "metadata": {},
   "outputs": [
    {
     "name": "stdout",
     "output_type": "stream",
     "text": [
      "\u001b[1m1/1\u001b[0m \u001b[32m━━━━━━━━━━━━━━━━━━━━\u001b[0m\u001b[37m\u001b[0m \u001b[1m0s\u001b[0m 36ms/step\n",
      "[[7.607596]]\n",
      "\u001b[1m1/1\u001b[0m \u001b[32m━━━━━━━━━━━━━━━━━━━━\u001b[0m\u001b[37m\u001b[0m \u001b[1m0s\u001b[0m 12ms/step\n",
      "[[5.52361]]\n"
     ]
    }
   ],
   "source": [
    "input = [ 0.0, 0.0, 0.0, 0.0, 0.0, 1.0, 0.0, 0.0, 0.0, 0.0, 0.0, 0.0, 0.0, 0.0, 0.0, 0.0, 0.0, 0.0, 0.0, # produkt\n",
    "         0.0, 0.0, 0.0, 0.0, 0.0, 0.0, 0.0, 0.0, 0.0, 0.0, 0.0, 1.0, # miesiąc\n",
    "         1.0, 0.0, 0.0, 0.0, 0.0, 0.0, 0.0, # dzień tygodnia\n",
    "         5.5, 10.5] # szerokość i wysokośc\n",
    "\n",
    "input = np.array(input) \n",
    "input = input.reshape(1, -1) \n",
    "\n",
    "demand = model.predict(input)\n",
    "print(demand)\n",
    "\n",
    "input = [ 0.0, 0.0, 0.0, 0.0, 0.0, 1.0, 0.0, 0.0, 0.0, 0.0, 0.0, 0.0, 0.0, 0.0, 0.0, 0.0, 0.0, 0.0, 0.0, # produkt\n",
    "         0.0, 0.0, 0.0, 0.0, 0.0, 0.0, 0.0, 1.0, 0.0, 0.0, 0.0, 0.0, # miesiąc\n",
    "         0.0, 0.0, 0.0, 0.0, 0.0, 1.0, 0.0, # dzień tygodnia\n",
    "         12.36231258, 7.91126149] # szerokość i wysokośc\n",
    "\n",
    "input = np.array(input) \n",
    "input = input.reshape(1, -1) \n",
    "\n",
    "demand = model.predict(input)\n",
    "print(demand)\n"
   ]
  },
  {
   "cell_type": "code",
   "execution_count": 772,
   "id": "a06ae981-7fd0-4c14-851d-ac3a03350a9e",
   "metadata": {},
   "outputs": [
    {
     "name": "stdout",
     "output_type": "stream",
     "text": [
      "[ 0.          0.          1.          0.          0.          0.\n",
      "  0.          0.          0.          0.          0.          0.\n",
      "  0.          0.          0.          0.          0.          0.\n",
      "  0.          0.          0.          0.          0.          0.\n",
      "  0.          0.          0.          0.          0.          0.\n",
      "  1.          0.          0.          0.          0.          0.\n",
      "  1.          0.         14.80463968 10.46607802]\n"
     ]
    }
   ],
   "source": [
    "print(input_data[35])"
   ]
  },
  {
   "cell_type": "code",
   "execution_count": null,
   "id": "ad0ce2a0-5de7-4096-9897-cf8865b0fd1f",
   "metadata": {},
   "outputs": [],
   "source": []
  }
 ],
 "metadata": {
  "kernelspec": {
   "display_name": "Python 3 (ipykernel)",
   "language": "python",
   "name": "python3"
  },
  "language_info": {
   "codemirror_mode": {
    "name": "ipython",
    "version": 3
   },
   "file_extension": ".py",
   "mimetype": "text/x-python",
   "name": "python",
   "nbconvert_exporter": "python",
   "pygments_lexer": "ipython3",
   "version": "3.12.4"
  }
 },
 "nbformat": 4,
 "nbformat_minor": 5
}
