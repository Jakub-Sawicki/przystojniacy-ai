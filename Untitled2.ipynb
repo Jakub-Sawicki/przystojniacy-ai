{
 "cells": [
  {
   "cell_type": "code",
   "execution_count": 11,
   "id": "b9b16c2f-b26d-46a5-861c-1be6c39254b6",
   "metadata": {},
   "outputs": [
    {
     "data": {
      "application/vnd.jupyter.widget-view+json": {
       "model_id": "8d1509002a3f46cabe298de95e6480fa",
       "version_major": 2,
       "version_minor": 0
      },
      "text/plain": [
       "Map(center=[52.2297, 21.0122], controls=(ZoomControl(options=['position', 'zoom_in_text', 'zoom_in_title', 'zo…"
      ]
     },
     "metadata": {},
     "output_type": "display_data"
    }
   ],
   "source": [
    "from ipyleaflet import Map\n",
    "\n",
    "# Tworzenie mapy z początkowym środkiem i zoomem\n",
    "mapa = Map(center=(52.2297, 21.0122), zoom=12)\n",
    "\n",
    "# Wyświetlenie mapy\n",
    "display(mapa)\n",
    "\n",
    "\n"
   ]
  },
  {
   "cell_type": "code",
   "execution_count": null,
   "id": "d591baf2-4748-4f66-8b15-c270a2a91cee",
   "metadata": {},
   "outputs": [],
   "source": []
  },
  {
   "cell_type": "code",
   "execution_count": null,
   "id": "698b6b78-9924-49e4-a1df-038bd865d37f",
   "metadata": {},
   "outputs": [],
   "source": []
  }
 ],
 "metadata": {
  "kernelspec": {
   "display_name": "Python 3 (ipykernel)",
   "language": "python",
   "name": "python3"
  },
  "language_info": {
   "codemirror_mode": {
    "name": "ipython",
    "version": 3
   },
   "file_extension": ".py",
   "mimetype": "text/x-python",
   "name": "python",
   "nbconvert_exporter": "python",
   "pygments_lexer": "ipython3",
   "version": "3.12.3"
  }
 },
 "nbformat": 4,
 "nbformat_minor": 5
}
